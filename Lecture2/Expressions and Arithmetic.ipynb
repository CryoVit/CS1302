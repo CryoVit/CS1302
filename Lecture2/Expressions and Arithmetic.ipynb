{
 "cells": [
  {
   "cell_type": "markdown",
   "metadata": {
    "slideshow": {
     "slide_type": "slide"
    }
   },
   "source": [
    "# Expressions and Arithmetic"
   ]
  },
  {
   "cell_type": "markdown",
   "metadata": {
    "slideshow": {
     "slide_type": "-"
    },
    "tags": [
     "remove-cell"
    ]
   },
   "source": [
    "**CS1302 Introduction to Computer Programming**\n",
    "___"
   ]
  },
  {
   "cell_type": "code",
   "execution_count": null,
   "metadata": {},
   "outputs": [],
   "source": [
    "from ipywidgets import interact, fixed"
   ]
  },
  {
   "cell_type": "markdown",
   "metadata": {
    "slideshow": {
     "slide_type": "slide"
    }
   },
   "source": [
    "## Operators"
   ]
  },
  {
   "cell_type": "markdown",
   "metadata": {
    "slideshow": {
     "slide_type": "fragment"
    }
   },
   "source": [
    "The followings are common operators you can use to form an expression in Python:"
   ]
  },
  {
   "cell_type": "markdown",
   "metadata": {
    "slideshow": {
     "slide_type": "-"
    }
   },
   "source": [
    "| Operator  |   Operation    | Example |\n",
    "| --------: | :------------- | :-----: |\n",
    "| unary `-` | Negation       |  `-y`   |\n",
    "|       `+` | Addition       | `x + y` |\n",
    "|       `-` | Subtraction    | `x - y` |\n",
    "|       `*` | Multiplication |  `x*y`  |\n",
    "|       `/` | Division       |  `x/y`  |"
   ]
  },
  {
   "cell_type": "markdown",
   "metadata": {
    "slideshow": {
     "slide_type": "fragment"
    }
   },
   "source": [
    "- `x` and `y` in the examples are called the *left and right operands* respectively.\n",
    "- The first operator is a *unary operator*, which operates on just one operand.   \n",
    "    (`+` can also be used as a unary operator, but it is not very useful.)\n",
    "- All other operators are *binary operators*, which operate on two operands."
   ]
  },
  {
   "cell_type": "markdown",
   "metadata": {
    "slideshow": {
     "slide_type": "subslide"
    }
   },
   "source": [
    "Python also supports some more operators such as the followings:"
   ]
  },
  {
   "cell_type": "markdown",
   "metadata": {
    "slideshow": {
     "slide_type": "-"
    }
   },
   "source": [
    "| Operator |    Operation     | Example |\n",
    "| -------: | :--------------- | :-----: |\n",
    "|     `//` | Integer division | `x//y`  |\n",
    "|      `%` | Modulo           |  `x%y`  |\n",
    "|     `**` | Exponentiation   | `x**y`  |"
   ]
  },
  {
   "cell_type": "markdown",
   "metadata": {},
   "source": [
    "The following demonstrates the operations of binary operators:"
   ]
  },
  {
   "cell_type": "code",
   "execution_count": null,
   "metadata": {
    "ExecuteTime": {
     "end_time": "2020-09-12T01:56:24.675900Z",
     "start_time": "2020-09-12T01:56:24.573989Z"
    },
    "code_folding": [
     0
    ],
    "slideshow": {
     "slide_type": "subslide"
    }
   },
   "outputs": [],
   "source": [
    "binary_operators = {\n",
    "    \"+\": \" + \",\n",
    "    \"-\": \" - \",\n",
    "    \"*\": \"*\",\n",
    "    \"/\": \"/\",\n",
    "    \"//\": \"//\",\n",
    "    \"%\": \"%\",\n",
    "    \"**\": \"**\",\n",
    "}\n",
    "\n",
    "\n",
    "@interact(operand1=r\"10\", operator=binary_operators, operand2=r\"3\")\n",
    "def binary_operation(operand1, operator, operand2):\n",
    "    expression = f\"{operand1}{operator}{operand2}\"\n",
    "    value = eval(expression)\n",
    "    print(\n",
    "        f\"\"\"{'Expression:':>11} {expression}\\n{'Value:':>11} {value}\\n{'Type:':>11} {type(value)}\"\"\"\n",
    "    )"
   ]
  },
  {
   "cell_type": "markdown",
   "metadata": {
    "slideshow": {
     "slide_type": "subslide"
    }
   },
   "source": [
    "**Exercise** \n",
    "\n",
    "What is the difference between `/` and `//`?"
   ]
  },
  {
   "cell_type": "markdown",
   "metadata": {
    "deletable": false,
    "nbgrader": {
     "cell_type": "markdown",
     "checksum": "bb9d7652c3d48ca53bba8eccf492ef05",
     "grade": true,
     "grade_id": "integer-division",
     "locked": false,
     "points": 0,
     "schema_version": 3,
     "solution": true,
     "task": false
    },
    "slideshow": {
     "slide_type": "-"
    }
   },
   "source": [
    "YOUR ANSWER HERE"
   ]
  },
  {
   "cell_type": "markdown",
   "metadata": {
    "slideshow": {
     "slide_type": "subslide"
    }
   },
   "source": [
    "**What does the modulo operator `%` do?**"
   ]
  },
  {
   "cell_type": "markdown",
   "metadata": {
    "slideshow": {
     "slide_type": "-"
    }
   },
   "source": [
    "You can think of it as computing the remainder, but the [truth](https://docs.python.org/3/reference/expressions.html#binary-arithmetic-operations) is more complicated."
   ]
  },
  {
   "cell_type": "markdown",
   "metadata": {
    "slideshow": {
     "slide_type": "subslide"
    },
    "tags": []
   },
   "source": [
    "**Exercise** \n",
    "\n",
    "What does `'abc' * 3` mean? What about `10 * 'a'`?"
   ]
  },
  {
   "cell_type": "markdown",
   "metadata": {
    "deletable": false,
    "nbgrader": {
     "cell_type": "markdown",
     "checksum": "d4ecd125dcf08f5ba4320e8c1584b692",
     "grade": true,
     "grade_id": "concatenation",
     "locked": false,
     "points": 0,
     "schema_version": 3,
     "solution": true,
     "task": false
    },
    "slideshow": {
     "slide_type": "-"
    }
   },
   "source": [
    "YOUR ANSWER HERE"
   ]
  },
  {
   "cell_type": "markdown",
   "metadata": {
    "slideshow": {
     "slide_type": "fragment"
    }
   },
   "source": [
    "**Exercise** \n",
    "\n",
    "How can you change the default operands (`10` and `3`) for different operators so that the overall expression has type `float`. Do you need to change all the operands to `float`?"
   ]
  },
  {
   "cell_type": "markdown",
   "metadata": {
    "deletable": false,
    "nbgrader": {
     "cell_type": "markdown",
     "checksum": "c17c6d48f40d50c42237ef5705b4b0af",
     "grade": true,
     "grade_id": "mixed-type",
     "locked": false,
     "points": 0,
     "schema_version": 3,
     "solution": true,
     "task": false
    },
    "slideshow": {
     "slide_type": "-"
    }
   },
   "source": [
    "YOUR ANSWER HERE"
   ]
  },
  {
   "cell_type": "markdown",
   "metadata": {
    "slideshow": {
     "slide_type": "slide"
    }
   },
   "source": [
    "## Operator Precedence and Associativity"
   ]
  },
  {
   "cell_type": "markdown",
   "metadata": {
    "slideshow": {
     "slide_type": "fragment"
    }
   },
   "source": [
    "An expression can consist of a sequence of operations performed in a row such as `x + y*z`."
   ]
  },
  {
   "cell_type": "markdown",
   "metadata": {
    "slideshow": {
     "slide_type": "subslide"
    },
    "tags": []
   },
   "source": [
    "**How to determine which operation should be performed first?**"
   ]
  },
  {
   "cell_type": "markdown",
   "metadata": {
    "slideshow": {
     "slide_type": "fragment"
    }
   },
   "source": [
    "Like arithmetics, the order of operations is decided based on the following rules applied sequentially:  \n",
    "1. *Grouping* by parentheses: inner grouping first\n",
    "1. Operator *precedence/priority*: higher precedence first\n",
    "1. Operator *associativity*:  \n",
    "    - Left associativity: Associate all operations on the left for the left operand, e.g.,  \n",
    "    `2 + 3 + 4 + 5` is equivalent to `((2 + 3) + 4) + 5`\n",
    "    - Right associativity: Associate all operations on the right for the right operand, e.g.,    \n",
    "    `2 ** 3 ** 4` is equivalent to `2 ** (3 ** (4 ** 5))`"
   ]
  },
  {
   "cell_type": "markdown",
   "metadata": {
    "slideshow": {
     "slide_type": "subslide"
    }
   },
   "source": [
    "**What are the operator precedence and associativity?**"
   ]
  },
  {
   "cell_type": "markdown",
   "metadata": {
    "slideshow": {
     "slide_type": "fragment"
    }
   },
   "source": [
    "The following table gives a concise summary:"
   ]
  },
  {
   "cell_type": "markdown",
   "metadata": {
    "slideshow": {
     "slide_type": "-"
    }
   },
   "source": [
    "|    Operators     | Associativity |\n",
    "| :--------------- | :-----------: |\n",
    "| `**`             |     right     |\n",
    "| `-` (unary)      |     right     |\n",
    "| `*`,`/`,`//`,`%` |     left      |\n",
    "| `+`,`-`          |     left      |"
   ]
  },
  {
   "cell_type": "markdown",
   "metadata": {
    "slideshow": {
     "slide_type": "subslide"
    }
   },
   "source": [
    "**Exercise** \n",
    "\n",
    "Play with the following widget to understand the precedence and associativity of different operators. In particular, explain whether the expression `-10 ** 2*3` gives $(-10)^{2\\times 3}= 10^6 = 1000000$."
   ]
  },
  {
   "cell_type": "code",
   "execution_count": null,
   "metadata": {
    "ExecuteTime": {
     "end_time": "2020-09-12T02:41:21.545421Z",
     "start_time": "2020-09-12T02:41:21.484702Z"
    },
    "code_folding": [
     0
    ],
    "slideshow": {
     "slide_type": "-"
    }
   },
   "outputs": [],
   "source": [
    "@interact(\n",
    "    operator1={\"None\": \"\", \"unary -\": \"-\"},\n",
    "    operand1=fixed(r\"10\"),\n",
    "    operator2=binary_operators,\n",
    "    operand2=fixed(r\"2\"),\n",
    "    operator3=binary_operators,\n",
    "    operand3=fixed(r\"3\"),\n",
    ")\n",
    "def three_operators(operator1, operand1, operator2, operand2, operator3, operand3):\n",
    "    expression = f\"{operator1}{operand1}{operator2}{operand2}{operator3}{operand3}\"\n",
    "    value = eval(expression)\n",
    "    print(\n",
    "        f\"\"\"{'Expression:':>11} {expression}\\n{'Value:':>11} {value}\\n{'Type:':>11} {type(value)}\"\"\"\n",
    "    )"
   ]
  },
  {
   "cell_type": "markdown",
   "metadata": {
    "deletable": false,
    "nbgrader": {
     "cell_type": "markdown",
     "checksum": "0c0b37e572d736ec00ff80462a498e5c",
     "grade": true,
     "grade_id": "precedence",
     "locked": false,
     "points": 0,
     "schema_version": 3,
     "solution": true,
     "task": false
    },
    "slideshow": {
     "slide_type": "-"
    }
   },
   "source": [
    "YOUR ANSWER HERE"
   ]
  },
  {
   "cell_type": "markdown",
   "metadata": {
    "slideshow": {
     "slide_type": "fragment"
    }
   },
   "source": [
    "**Exercise** \n",
    "\n",
    "To avoid confusion in the order of operations, we should follow the [style guide](https://www.python.org/dev/peps/pep-0008/#other-recommendations) when writing expression. What is the proper way to write `-10 ** 2*3`? "
   ]
  },
  {
   "cell_type": "code",
   "execution_count": null,
   "metadata": {
    "ExecuteTime": {
     "end_time": "2020-09-12T02:42:06.838771Z",
     "start_time": "2020-09-12T02:42:06.821964Z"
    },
    "deletable": false,
    "nbgrader": {
     "cell_type": "code",
     "checksum": "3fad0d373e4d4bd412aac80ff6e16a28",
     "grade": true,
     "grade_id": "pep8",
     "locked": false,
     "points": 0,
     "schema_version": 3,
     "solution": true,
     "task": false
    },
    "slideshow": {
     "slide_type": "-"
    }
   },
   "outputs": [],
   "source": [
    "# YOUR CODE HERE\n",
    "raise NotImplementedError()"
   ]
  },
  {
   "cell_type": "markdown",
   "metadata": {
    "slideshow": {
     "slide_type": "slide"
    }
   },
   "source": [
    "## Augmented Assignment Operators"
   ]
  },
  {
   "cell_type": "markdown",
   "metadata": {
    "slideshow": {
     "slide_type": "fragment"
    }
   },
   "source": [
    "For convenience, Python defines the [augmented assignment operators](https://docs.python.org/3/reference/simple_stmts.html#grammar-token-augmented-assignment-stmt) such as `+=`, where  \n",
    "> `x += 1` means `x = x + 1`."
   ]
  },
  {
   "cell_type": "markdown",
   "metadata": {
    "slideshow": {
     "slide_type": "fragment"
    }
   },
   "source": [
    "The following widgets demonstrate other augmented assignment operators."
   ]
  },
  {
   "cell_type": "code",
   "execution_count": null,
   "metadata": {
    "ExecuteTime": {
     "end_time": "2020-09-12T02:50:22.431213Z",
     "start_time": "2020-09-12T02:50:22.389022Z"
    },
    "slideshow": {
     "slide_type": "-"
    }
   },
   "outputs": [],
   "source": [
    "@interact(\n",
    "    initial_value=fixed(r\"10\"),\n",
    "    operator=[\"+=\", \"-=\", \"*=\", \"/=\", \"//=\", \"%=\", \"**=\"],\n",
    "    operand=fixed(r\"2\"),\n",
    ")\n",
    "def binary_operation(initial_value, operator, operand):\n",
    "    assignment = f\"x = {initial_value}\\nx {operator} {operand}\"\n",
    "    _locals = {}\n",
    "    exec(assignment, None, _locals)\n",
    "    print(f\"Assignments:\\n{assignment:>10}\\nx: {_locals['x']} ({type(_locals['x'])})\")"
   ]
  },
  {
   "cell_type": "markdown",
   "metadata": {
    "slideshow": {
     "slide_type": "subslide"
    }
   },
   "source": [
    "**Exercise** Can we create an expression using (augmented) assignment operators? Try running the code to see the effect."
   ]
  },
  {
   "cell_type": "code",
   "execution_count": null,
   "metadata": {
    "ExecuteTime": {
     "end_time": "2020-09-04T12:31:45.339984Z",
     "start_time": "2020-09-04T12:31:45.335881Z"
    },
    "slideshow": {
     "slide_type": "-"
    }
   },
   "outputs": [],
   "source": [
    "3*(x = 15)"
   ]
  },
  {
   "cell_type": "markdown",
   "metadata": {
    "deletable": false,
    "nbgrader": {
     "cell_type": "markdown",
     "checksum": "454a97bd9237b5f40285026dc7f4efcc",
     "grade": true,
     "grade_id": "assignment-statement",
     "locked": false,
     "points": 0,
     "schema_version": 3,
     "solution": true,
     "task": false
    },
    "slideshow": {
     "slide_type": "-"
    }
   },
   "source": [
    "YOUR ANSWER HERE"
   ]
  },
  {
   "cell_type": "markdown",
   "metadata": {
    "slideshow": {
     "slide_type": "subslide"
    },
    "tags": []
   },
   "source": [
    "Starting Python 3.8, there is an [assignment expression](https://docs.python.org/3/whatsnew/3.8.html#assignment-expressions) using the operator `:=`."
   ]
  },
  {
   "cell_type": "code",
   "execution_count": null,
   "metadata": {},
   "outputs": [],
   "source": [
    "y = 3*(x := 15)\n",
    "x, y"
   ]
  }
 ],
 "metadata": {
  "kernelspec": {
   "display_name": "Python 3 (ipykernel)",
   "language": "python",
   "name": "python3"
  },
  "language_info": {
   "codemirror_mode": {
    "name": "ipython",
    "version": 3
   },
   "file_extension": ".py",
   "mimetype": "text/x-python",
   "name": "python",
   "nbconvert_exporter": "python",
   "pygments_lexer": "ipython3",
   "version": "3.10.6"
  },
  "latex_envs": {
   "LaTeX_envs_menu_present": true,
   "autoclose": false,
   "autocomplete": true,
   "bibliofile": "biblio.bib",
   "cite_by": "apalike",
   "current_citInitial": 1,
   "eqLabelWithNumbers": true,
   "eqNumInitial": 1,
   "hotkeys": {
    "equation": "Ctrl-E",
    "itemize": "Ctrl-I"
   },
   "labels_anchors": false,
   "latex_user_defs": false,
   "report_style_numbering": false,
   "user_envs_cfg": false
  },
  "rise": {
   "enable_chalkboard": true,
   "scroll": true,
   "theme": "white"
  },
  "toc": {
   "base_numbering": 1,
   "nav_menu": {
    "height": "195px",
    "width": "330px"
   },
   "number_sections": true,
   "sideBar": true,
   "skip_h1_title": true,
   "title_cell": "Table of Contents",
   "title_sidebar": "Contents",
   "toc_cell": false,
   "toc_position": {
    "height": "454.418px",
    "left": "1533px",
    "top": "110.284px",
    "width": "435.327px"
   },
   "toc_section_display": true,
   "toc_window_display": false
  },
  "widgets": {
   "application/vnd.jupyter.widget-state+json": {
    "state": {
     "0008c5d65f5643438203b3fba3429621": {
      "model_module": "@jupyter-widgets/controls",
      "model_module_version": "1.5.0",
      "model_name": "VBoxModel",
      "state": {
       "_dom_classes": [
        "widget-interact"
       ],
       "children": [
        "IPY_MODEL_3d2d0c5afecd49a1aedb6baac153e833",
        "IPY_MODEL_d2cb5e654e294e1bbe13fbc25bc0be86",
        "IPY_MODEL_ab48ccf558db448f88696faf84507531",
        "IPY_MODEL_1af5b88b8f2f421ca318ba4738bdaaa6"
       ],
       "layout": "IPY_MODEL_ccceb30731e54fc99db9503ec8efab58"
      }
     },
     "0983a5c96972484e906bbccca88cb27b": {
      "model_module": "@jupyter-widgets/base",
      "model_module_version": "1.2.0",
      "model_name": "LayoutModel",
      "state": {}
     },
     "0a086fe2bfd442849cd89a9cbe4a1154": {
      "model_module": "@jupyter-widgets/base",
      "model_module_version": "1.2.0",
      "model_name": "LayoutModel",
      "state": {}
     },
     "0a5901f2543d4998b9d325f4715201ea": {
      "model_module": "@jupyter-widgets/controls",
      "model_module_version": "1.5.0",
      "model_name": "DescriptionStyleModel",
      "state": {
       "description_width": ""
      }
     },
     "0cd016ed5082444dbc8ece4740f43bb8": {
      "model_module": "@jupyter-widgets/base",
      "model_module_version": "1.2.0",
      "model_name": "LayoutModel",
      "state": {}
     },
     "0fbcd8dc490b487db70b3ba10a70c92a": {
      "model_module": "@jupyter-widgets/controls",
      "model_module_version": "1.5.0",
      "model_name": "VBoxModel",
      "state": {
       "_dom_classes": [
        "widget-interact"
       ],
       "children": [
        "IPY_MODEL_445b93ad51d440ffbf481d1be111a139",
        "IPY_MODEL_1c72ddce40084c618fb172e8e395e072"
       ],
       "layout": "IPY_MODEL_2063a960c82c4def96a6acc2744dfb7b"
      }
     },
     "14365351715e4023a810ccb265e5e12f": {
      "model_module": "@jupyter-widgets/output",
      "model_module_version": "1.0.0",
      "model_name": "OutputModel",
      "state": {
       "layout": "IPY_MODEL_5316868f073f415bb2bbedc987de5ff8",
       "outputs": [
        {
         "name": "stdout",
         "output_type": "stream",
         "text": "Assignments:\nx = 10\nx += 2\nx: 12 (<class 'int'>)\n"
        }
       ]
      }
     },
     "1465be8b410c4e31ab1645c654600a1c": {
      "model_module": "@jupyter-widgets/base",
      "model_module_version": "1.2.0",
      "model_name": "LayoutModel",
      "state": {}
     },
     "1964bab2a2be467a999227e245da668b": {
      "model_module": "@jupyter-widgets/controls",
      "model_module_version": "1.5.0",
      "model_name": "TextModel",
      "state": {
       "description": "operand2",
       "layout": "IPY_MODEL_0a086fe2bfd442849cd89a9cbe4a1154",
       "style": "IPY_MODEL_c70828d9cde24d33a51bf743b14d3748",
       "value": "3"
      }
     },
     "1a66ddc71da146c0a56ba9a8f411409e": {
      "model_module": "@jupyter-widgets/controls",
      "model_module_version": "1.5.0",
      "model_name": "DescriptionStyleModel",
      "state": {
       "description_width": ""
      }
     },
     "1af5b88b8f2f421ca318ba4738bdaaa6": {
      "model_module": "@jupyter-widgets/output",
      "model_module_version": "1.0.0",
      "model_name": "OutputModel",
      "state": {
       "layout": "IPY_MODEL_f792c1f85be64117844b523db5907a8c",
       "outputs": [
        {
         "name": "stdout",
         "output_type": "stream",
         "text": "Expression: 10 + 2 + 3\n     Value: 15\n      Type: <class 'int'>\n"
        }
       ]
      }
     },
     "1c72ddce40084c618fb172e8e395e072": {
      "model_module": "@jupyter-widgets/output",
      "model_module_version": "1.0.0",
      "model_name": "OutputModel",
      "state": {
       "layout": "IPY_MODEL_738ba1c148ea45628a93139e93be92b5",
       "outputs": [
        {
         "name": "stdout",
         "output_type": "stream",
         "text": "Assignments:\nx = 10\nx += 2\nx: 12 (<class 'int'>)\n"
        }
       ]
      }
     },
     "1ef1c324234b4ec5897873809b1b1d5e": {
      "model_module": "@jupyter-widgets/controls",
      "model_module_version": "1.5.0",
      "model_name": "DescriptionStyleModel",
      "state": {
       "description_width": ""
      }
     },
     "2063a960c82c4def96a6acc2744dfb7b": {
      "model_module": "@jupyter-widgets/base",
      "model_module_version": "1.2.0",
      "model_name": "LayoutModel",
      "state": {}
     },
     "2389b204166c41e7a138ce62ad68ec2a": {
      "model_module": "@jupyter-widgets/base",
      "model_module_version": "1.2.0",
      "model_name": "LayoutModel",
      "state": {}
     },
     "26bc413db74941249df5d80ef38a30b1": {
      "model_module": "@jupyter-widgets/controls",
      "model_module_version": "1.5.0",
      "model_name": "VBoxModel",
      "state": {
       "_dom_classes": [
        "widget-interact"
       ],
       "children": [
        "IPY_MODEL_fd6a2a7602fd432b9f46acf535751ec5",
        "IPY_MODEL_14365351715e4023a810ccb265e5e12f"
       ],
       "layout": "IPY_MODEL_0983a5c96972484e906bbccca88cb27b"
      }
     },
     "31b847921b344a7aabfc0f9301ae73f8": {
      "model_module": "@jupyter-widgets/output",
      "model_module_version": "1.0.0",
      "model_name": "OutputModel",
      "state": {
       "layout": "IPY_MODEL_b7c804405ad94ad6997353355798e502",
       "outputs": [
        {
         "name": "stdout",
         "output_type": "stream",
         "text": "Expression: 10 + 3\n     Value: 13\n      Type: <class 'int'>\n"
        }
       ]
      }
     },
     "37de9c55b5f848f3ba1e2766534c7ccb": {
      "model_module": "@jupyter-widgets/controls",
      "model_module_version": "1.5.0",
      "model_name": "VBoxModel",
      "state": {
       "_dom_classes": [
        "widget-interact"
       ],
       "children": [
        "IPY_MODEL_8d06c1a35a594f4690cb58527f6dcbb4",
        "IPY_MODEL_988d4903993f4ef89b83048f687521ed",
        "IPY_MODEL_1964bab2a2be467a999227e245da668b",
        "IPY_MODEL_31b847921b344a7aabfc0f9301ae73f8"
       ],
       "layout": "IPY_MODEL_e62671d5c3464c849a6b274c78156a43"
      }
     },
     "3d2d0c5afecd49a1aedb6baac153e833": {
      "model_module": "@jupyter-widgets/controls",
      "model_module_version": "1.5.0",
      "model_name": "DropdownModel",
      "state": {
       "_options_labels": [
        "None",
        "unary -"
       ],
       "description": "operator1",
       "index": 0,
       "layout": "IPY_MODEL_0cd016ed5082444dbc8ece4740f43bb8",
       "style": "IPY_MODEL_0a5901f2543d4998b9d325f4715201ea"
      }
     },
     "445b93ad51d440ffbf481d1be111a139": {
      "model_module": "@jupyter-widgets/controls",
      "model_module_version": "1.5.0",
      "model_name": "DropdownModel",
      "state": {
       "_options_labels": [
        "+=",
        "-=",
        "*=",
        "/=",
        "//=",
        "%=",
        "**="
       ],
       "description": "operator",
       "index": 0,
       "layout": "IPY_MODEL_e2cc60326d3b43b09c8f7ed21c638ff7",
       "style": "IPY_MODEL_73bb01d9305d41999475ed85e7ea0925"
      }
     },
     "5316868f073f415bb2bbedc987de5ff8": {
      "model_module": "@jupyter-widgets/base",
      "model_module_version": "1.2.0",
      "model_name": "LayoutModel",
      "state": {}
     },
     "5bf3fc2b4142417eaab2fc591c7b358f": {
      "model_module": "@jupyter-widgets/base",
      "model_module_version": "1.2.0",
      "model_name": "LayoutModel",
      "state": {}
     },
     "5eed08e8f29b410caea5d7fdf1ef7305": {
      "model_module": "@jupyter-widgets/base",
      "model_module_version": "1.2.0",
      "model_name": "LayoutModel",
      "state": {}
     },
     "64c2f1b95533446ca980eb54a5209eb6": {
      "model_module": "@jupyter-widgets/controls",
      "model_module_version": "1.5.0",
      "model_name": "TextModel",
      "state": {
       "description": "operand2",
       "layout": "IPY_MODEL_76547670c49647b7bb1a8a39c641f776",
       "style": "IPY_MODEL_92c0167145e74cfcbbbedbcb3e403992",
       "value": "3"
      }
     },
     "738ba1c148ea45628a93139e93be92b5": {
      "model_module": "@jupyter-widgets/base",
      "model_module_version": "1.2.0",
      "model_name": "LayoutModel",
      "state": {}
     },
     "73bb01d9305d41999475ed85e7ea0925": {
      "model_module": "@jupyter-widgets/controls",
      "model_module_version": "1.5.0",
      "model_name": "DescriptionStyleModel",
      "state": {
       "description_width": ""
      }
     },
     "76547670c49647b7bb1a8a39c641f776": {
      "model_module": "@jupyter-widgets/base",
      "model_module_version": "1.2.0",
      "model_name": "LayoutModel",
      "state": {}
     },
     "7dd4cabc1b7e4d119c76d5ee9479dae8": {
      "model_module": "@jupyter-widgets/controls",
      "model_module_version": "1.5.0",
      "model_name": "VBoxModel",
      "state": {
       "_dom_classes": [
        "widget-interact"
       ],
       "children": [
        "IPY_MODEL_d3f413f21e8948fcb8c7ae444035cb24",
        "IPY_MODEL_941dc470531341fd83783fe5cf61ab1c",
        "IPY_MODEL_64c2f1b95533446ca980eb54a5209eb6",
        "IPY_MODEL_fe5edb7432c748cabc669ae67f9ea519"
       ],
       "layout": "IPY_MODEL_5eed08e8f29b410caea5d7fdf1ef7305"
      }
     },
     "81fd4866c9cf4c6f919a2d7deb868642": {
      "model_module": "@jupyter-widgets/controls",
      "model_module_version": "1.5.0",
      "model_name": "DescriptionStyleModel",
      "state": {
       "description_width": ""
      }
     },
     "841a6a07c46a40e6856a74ac566df2ba": {
      "model_module": "@jupyter-widgets/base",
      "model_module_version": "1.2.0",
      "model_name": "LayoutModel",
      "state": {}
     },
     "8d06c1a35a594f4690cb58527f6dcbb4": {
      "model_module": "@jupyter-widgets/controls",
      "model_module_version": "1.5.0",
      "model_name": "TextModel",
      "state": {
       "description": "operand1",
       "layout": "IPY_MODEL_ccb1862f6718439080db0041d3e00474",
       "style": "IPY_MODEL_1ef1c324234b4ec5897873809b1b1d5e",
       "value": "10"
      }
     },
     "8fbc7b404917461ea81d0d1daa34dfee": {
      "model_module": "@jupyter-widgets/controls",
      "model_module_version": "1.5.0",
      "model_name": "DescriptionStyleModel",
      "state": {
       "description_width": ""
      }
     },
     "9108697a50734f82a15d6b013f5665d4": {
      "model_module": "@jupyter-widgets/controls",
      "model_module_version": "1.5.0",
      "model_name": "DescriptionStyleModel",
      "state": {
       "description_width": ""
      }
     },
     "92c0167145e74cfcbbbedbcb3e403992": {
      "model_module": "@jupyter-widgets/controls",
      "model_module_version": "1.5.0",
      "model_name": "DescriptionStyleModel",
      "state": {
       "description_width": ""
      }
     },
     "941dc470531341fd83783fe5cf61ab1c": {
      "model_module": "@jupyter-widgets/controls",
      "model_module_version": "1.5.0",
      "model_name": "DropdownModel",
      "state": {
       "_options_labels": [
        "+",
        "-",
        "*",
        "/",
        "//",
        "%",
        "**"
       ],
       "description": "operator",
       "index": 0,
       "layout": "IPY_MODEL_2389b204166c41e7a138ce62ad68ec2a",
       "style": "IPY_MODEL_af886b1f611e4410b42e3512d1159669"
      }
     },
     "988d4903993f4ef89b83048f687521ed": {
      "model_module": "@jupyter-widgets/controls",
      "model_module_version": "1.5.0",
      "model_name": "DropdownModel",
      "state": {
       "_options_labels": [
        "+",
        "-",
        "*",
        "/",
        "//",
        "%",
        "**"
       ],
       "description": "operator",
       "index": 0,
       "layout": "IPY_MODEL_5bf3fc2b4142417eaab2fc591c7b358f",
       "style": "IPY_MODEL_81fd4866c9cf4c6f919a2d7deb868642"
      }
     },
     "a7bab57418f5439494af5046f3784b20": {
      "model_module": "@jupyter-widgets/base",
      "model_module_version": "1.2.0",
      "model_name": "LayoutModel",
      "state": {}
     },
     "ab48ccf558db448f88696faf84507531": {
      "model_module": "@jupyter-widgets/controls",
      "model_module_version": "1.5.0",
      "model_name": "DropdownModel",
      "state": {
       "_options_labels": [
        "+",
        "-",
        "*",
        "/",
        "//",
        "%",
        "**"
       ],
       "description": "operator3",
       "index": 0,
       "layout": "IPY_MODEL_841a6a07c46a40e6856a74ac566df2ba",
       "style": "IPY_MODEL_8fbc7b404917461ea81d0d1daa34dfee"
      }
     },
     "af886b1f611e4410b42e3512d1159669": {
      "model_module": "@jupyter-widgets/controls",
      "model_module_version": "1.5.0",
      "model_name": "DescriptionStyleModel",
      "state": {
       "description_width": ""
      }
     },
     "b60425059af3447ca9b793107b4dadac": {
      "model_module": "@jupyter-widgets/controls",
      "model_module_version": "1.5.0",
      "model_name": "DescriptionStyleModel",
      "state": {
       "description_width": ""
      }
     },
     "b7c804405ad94ad6997353355798e502": {
      "model_module": "@jupyter-widgets/base",
      "model_module_version": "1.2.0",
      "model_name": "LayoutModel",
      "state": {}
     },
     "c70828d9cde24d33a51bf743b14d3748": {
      "model_module": "@jupyter-widgets/controls",
      "model_module_version": "1.5.0",
      "model_name": "DescriptionStyleModel",
      "state": {
       "description_width": ""
      }
     },
     "ccb1862f6718439080db0041d3e00474": {
      "model_module": "@jupyter-widgets/base",
      "model_module_version": "1.2.0",
      "model_name": "LayoutModel",
      "state": {}
     },
     "ccceb30731e54fc99db9503ec8efab58": {
      "model_module": "@jupyter-widgets/base",
      "model_module_version": "1.2.0",
      "model_name": "LayoutModel",
      "state": {}
     },
     "d2cb5e654e294e1bbe13fbc25bc0be86": {
      "model_module": "@jupyter-widgets/controls",
      "model_module_version": "1.5.0",
      "model_name": "DropdownModel",
      "state": {
       "_options_labels": [
        "+",
        "-",
        "*",
        "/",
        "//",
        "%",
        "**"
       ],
       "description": "operator2",
       "index": 0,
       "layout": "IPY_MODEL_1465be8b410c4e31ab1645c654600a1c",
       "style": "IPY_MODEL_1a66ddc71da146c0a56ba9a8f411409e"
      }
     },
     "d3f413f21e8948fcb8c7ae444035cb24": {
      "model_module": "@jupyter-widgets/controls",
      "model_module_version": "1.5.0",
      "model_name": "TextModel",
      "state": {
       "description": "operand1",
       "layout": "IPY_MODEL_a7bab57418f5439494af5046f3784b20",
       "style": "IPY_MODEL_9108697a50734f82a15d6b013f5665d4",
       "value": "10"
      }
     },
     "e2cc60326d3b43b09c8f7ed21c638ff7": {
      "model_module": "@jupyter-widgets/base",
      "model_module_version": "1.2.0",
      "model_name": "LayoutModel",
      "state": {}
     },
     "e4a5d9a37a2d42eca9626770ecf93791": {
      "model_module": "@jupyter-widgets/base",
      "model_module_version": "1.2.0",
      "model_name": "LayoutModel",
      "state": {}
     },
     "e62671d5c3464c849a6b274c78156a43": {
      "model_module": "@jupyter-widgets/base",
      "model_module_version": "1.2.0",
      "model_name": "LayoutModel",
      "state": {}
     },
     "ea96cfd5c85c48858a63fb13ec7d3f3e": {
      "model_module": "@jupyter-widgets/base",
      "model_module_version": "1.2.0",
      "model_name": "LayoutModel",
      "state": {}
     },
     "f792c1f85be64117844b523db5907a8c": {
      "model_module": "@jupyter-widgets/base",
      "model_module_version": "1.2.0",
      "model_name": "LayoutModel",
      "state": {}
     },
     "fd6a2a7602fd432b9f46acf535751ec5": {
      "model_module": "@jupyter-widgets/controls",
      "model_module_version": "1.5.0",
      "model_name": "DropdownModel",
      "state": {
       "_options_labels": [
        "+=",
        "-=",
        "*=",
        "/=",
        "//=",
        "%=",
        "**="
       ],
       "description": "operator",
       "index": 0,
       "layout": "IPY_MODEL_ea96cfd5c85c48858a63fb13ec7d3f3e",
       "style": "IPY_MODEL_b60425059af3447ca9b793107b4dadac"
      }
     },
     "fe5edb7432c748cabc669ae67f9ea519": {
      "model_module": "@jupyter-widgets/output",
      "model_module_version": "1.0.0",
      "model_name": "OutputModel",
      "state": {
       "layout": "IPY_MODEL_e4a5d9a37a2d42eca9626770ecf93791",
       "outputs": [
        {
         "name": "stdout",
         "output_type": "stream",
         "text": "Expression: 10 + 3\n     Value: 13\n      Type: <class 'int'>\n"
        }
       ]
      }
     }
    },
    "version_major": 2,
    "version_minor": 0
   }
  }
 },
 "nbformat": 4,
 "nbformat_minor": 4
}
